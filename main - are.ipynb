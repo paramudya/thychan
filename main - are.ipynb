{
 "cells": [
  {
   "cell_type": "code",
   "execution_count": 1,
   "id": "0aad02e9",
   "metadata": {},
   "outputs": [],
   "source": [
    "import pandas as pd"
   ]
  },
  {
   "cell_type": "markdown",
   "id": "f6daa63e",
   "metadata": {},
   "source": []
  },
  {
   "cell_type": "code",
   "execution_count": 9,
   "id": "ad595c8a",
   "metadata": {},
   "outputs": [],
   "source": [
    "#load\n",
    "rates=pd.read_excel('manual_data.xlsx').reset_index()"
   ]
  },
  {
   "cell_type": "code",
   "execution_count": 10,
   "id": "51e67d3f",
   "metadata": {},
   "outputs": [
    {
     "data": {
      "text/html": [
       "<div>\n",
       "<style scoped>\n",
       "    .dataframe tbody tr th:only-of-type {\n",
       "        vertical-align: middle;\n",
       "    }\n",
       "\n",
       "    .dataframe tbody tr th {\n",
       "        vertical-align: top;\n",
       "    }\n",
       "\n",
       "    .dataframe thead th {\n",
       "        text-align: right;\n",
       "    }\n",
       "</style>\n",
       "<table border=\"1\" class=\"dataframe\">\n",
       "  <thead>\n",
       "    <tr style=\"text-align: right;\">\n",
       "      <th></th>\n",
       "      <th>index</th>\n",
       "      <th>college</th>\n",
       "      <th>program</th>\n",
       "      <th>rate</th>\n",
       "      <th>info</th>\n",
       "    </tr>\n",
       "  </thead>\n",
       "  <tbody>\n",
       "    <tr>\n",
       "      <th>0</th>\n",
       "      <td>0</td>\n",
       "      <td>UCL</td>\n",
       "      <td>MSc Data Science</td>\n",
       "      <td>0.057</td>\n",
       "      <td>NaN</td>\n",
       "    </tr>\n",
       "    <tr>\n",
       "      <th>1</th>\n",
       "      <td>1</td>\n",
       "      <td>UCL</td>\n",
       "      <td>MSc Finance</td>\n",
       "      <td>0.160</td>\n",
       "      <td>NaN</td>\n",
       "    </tr>\n",
       "    <tr>\n",
       "      <th>2</th>\n",
       "      <td>2</td>\n",
       "      <td>UCL</td>\n",
       "      <td>MSc Physics</td>\n",
       "      <td>0.480</td>\n",
       "      <td>NaN</td>\n",
       "    </tr>\n",
       "    <tr>\n",
       "      <th>3</th>\n",
       "      <td>3</td>\n",
       "      <td>UCL</td>\n",
       "      <td>MSc Geology</td>\n",
       "      <td>0.890</td>\n",
       "      <td>NaN</td>\n",
       "    </tr>\n",
       "    <tr>\n",
       "      <th>4</th>\n",
       "      <td>4</td>\n",
       "      <td>UCL</td>\n",
       "      <td>MA Fine Art</td>\n",
       "      <td>0.215</td>\n",
       "      <td>18-25</td>\n",
       "    </tr>\n",
       "    <tr>\n",
       "      <th>5</th>\n",
       "      <td>5</td>\n",
       "      <td>Edin</td>\n",
       "      <td>MSC Finance, Technology and Policy</td>\n",
       "      <td>0.270</td>\n",
       "      <td>NaN</td>\n",
       "    </tr>\n",
       "    <tr>\n",
       "      <th>6</th>\n",
       "      <td>6</td>\n",
       "      <td>Edin</td>\n",
       "      <td>MSc Computational Mathematical Finance</td>\n",
       "      <td>0.180</td>\n",
       "      <td>NaN</td>\n",
       "    </tr>\n",
       "    <tr>\n",
       "      <th>7</th>\n",
       "      <td>7</td>\n",
       "      <td>Edin</td>\n",
       "      <td>MSc Data Science</td>\n",
       "      <td>0.100</td>\n",
       "      <td>NaN</td>\n",
       "    </tr>\n",
       "    <tr>\n",
       "      <th>8</th>\n",
       "      <td>8</td>\n",
       "      <td>Edin</td>\n",
       "      <td>MSc Statistics with Data Science</td>\n",
       "      <td>0.250</td>\n",
       "      <td>NaN</td>\n",
       "    </tr>\n",
       "    <tr>\n",
       "      <th>9</th>\n",
       "      <td>9</td>\n",
       "      <td>Edin</td>\n",
       "      <td>MA Fashion</td>\n",
       "      <td>0.061</td>\n",
       "      <td>NaN</td>\n",
       "    </tr>\n",
       "  </tbody>\n",
       "</table>\n",
       "</div>"
      ],
      "text/plain": [
       "   index college                                 program   rate   info\n",
       "0      0     UCL                        MSc Data Science  0.057    NaN\n",
       "1      1     UCL                             MSc Finance  0.160    NaN\n",
       "2      2     UCL                             MSc Physics  0.480    NaN\n",
       "3      3     UCL                             MSc Geology  0.890    NaN\n",
       "4      4     UCL                             MA Fine Art  0.215  18-25\n",
       "5      5    Edin      MSC Finance, Technology and Policy  0.270    NaN\n",
       "6      6   Edin   MSc Computational Mathematical Finance  0.180    NaN\n",
       "7      7    Edin                        MSc Data Science  0.100    NaN\n",
       "8      8    Edin        MSc Statistics with Data Science  0.250    NaN\n",
       "9      9    Edin                              MA Fashion  0.061    NaN"
      ]
     },
     "execution_count": 10,
     "metadata": {},
     "output_type": "execute_result"
    }
   ],
   "source": [
    "rates"
   ]
  },
  {
   "cell_type": "code",
   "execution_count": 101,
   "id": "eef79a31",
   "metadata": {},
   "outputs": [
    {
     "name": "stdout",
     "output_type": "stream",
     "text": [
      "pick program index for picks no 1:\n",
      "0\n",
      "pick program index for picks no 2:\n",
      "7\n",
      "pick program index for picks no 3:\n",
      "8\n"
     ]
    }
   ],
   "source": [
    "#user pick\n",
    "no_picks=3 #variable\n",
    "picks={}\n",
    "for i in range(no_picks): \n",
    "    while 1:\n",
    "        temp_pick=int(input(f'pick program index for picks no {i+1}:\\n'))\n",
    "        if temp_pick not in picks.values(): \n",
    "            picks[i+1]=temp_pick\n",
    "            break\n",
    "        else: print(f'index {temp_pick} has been picked. reinput vaue for pick no {i+1}')"
   ]
  },
  {
   "cell_type": "code",
   "execution_count": 102,
   "id": "a3852f23",
   "metadata": {},
   "outputs": [],
   "source": [
    "#search through mapping\n",
    "res=rates[rates.index.isin(picks.values())].reset_index(drop=1)"
   ]
  },
  {
   "cell_type": "code",
   "execution_count": 103,
   "id": "69608852",
   "metadata": {},
   "outputs": [],
   "source": [
    "#calculate\n",
    "all_rate=res.loc[0,'rate']*res.loc[1,'rate']*res.loc[2,'rate']\n",
    "none_rate=(1-res.loc[0,'rate'])*(1-res.loc[1,'rate'])*(1-res.loc[2,'rate'])\n",
    "any_rate=1-none_rate"
   ]
  },
  {
   "cell_type": "code",
   "execution_count": 104,
   "id": "30b82514",
   "metadata": {},
   "outputs": [
    {
     "data": {
      "text/html": [
       "<div>\n",
       "<style scoped>\n",
       "    .dataframe tbody tr th:only-of-type {\n",
       "        vertical-align: middle;\n",
       "    }\n",
       "\n",
       "    .dataframe tbody tr th {\n",
       "        vertical-align: top;\n",
       "    }\n",
       "\n",
       "    .dataframe thead th {\n",
       "        text-align: right;\n",
       "    }\n",
       "</style>\n",
       "<table border=\"1\" class=\"dataframe\">\n",
       "  <thead>\n",
       "    <tr style=\"text-align: right;\">\n",
       "      <th></th>\n",
       "      <th>index</th>\n",
       "      <th>college</th>\n",
       "      <th>program</th>\n",
       "      <th>rate</th>\n",
       "      <th>info</th>\n",
       "    </tr>\n",
       "  </thead>\n",
       "  <tbody>\n",
       "    <tr>\n",
       "      <th>0</th>\n",
       "      <td>0</td>\n",
       "      <td>UCL</td>\n",
       "      <td>MSc Data Science</td>\n",
       "      <td>0.057</td>\n",
       "      <td>NaN</td>\n",
       "    </tr>\n",
       "    <tr>\n",
       "      <th>1</th>\n",
       "      <td>7</td>\n",
       "      <td>Edin</td>\n",
       "      <td>MSc Data Science</td>\n",
       "      <td>0.100</td>\n",
       "      <td>NaN</td>\n",
       "    </tr>\n",
       "    <tr>\n",
       "      <th>2</th>\n",
       "      <td>8</td>\n",
       "      <td>Edin</td>\n",
       "      <td>MSc Statistics with Data Science</td>\n",
       "      <td>0.250</td>\n",
       "      <td>NaN</td>\n",
       "    </tr>\n",
       "  </tbody>\n",
       "</table>\n",
       "</div>"
      ],
      "text/plain": [
       "   index college                           program   rate info\n",
       "0      0     UCL                  MSc Data Science  0.057  NaN\n",
       "1      7    Edin                  MSc Data Science  0.100  NaN\n",
       "2      8    Edin  MSc Statistics with Data Science  0.250  NaN"
      ]
     },
     "execution_count": 104,
     "metadata": {},
     "output_type": "execute_result"
    }
   ],
   "source": [
    "res"
   ]
  },
  {
   "cell_type": "code",
   "execution_count": 107,
   "id": "34b1cd4a",
   "metadata": {},
   "outputs": [],
   "source": [
    "#print\n",
    "print_out=''\n",
    "for i in range(no_picks): \n",
    "    print_out+=f'''{res.loc[i,'college']} - {res.loc[i,'program']} offer rate: {res.loc[i,'rate']}\\n'''\n",
    "print_out+=f'''\\n\\nchance of getting into ALL {no_picks} programs: {int(all_rate*1000)/1000}\n",
    "chance of getting into at least 1 program: {int(any_rate*1000)/1000}'''"
   ]
  },
  {
   "cell_type": "code",
   "execution_count": 108,
   "id": "56ccd6b8",
   "metadata": {},
   "outputs": [
    {
     "name": "stdout",
     "output_type": "stream",
     "text": [
      "UCL - MSc Data Science offer rate: 0.057\n",
      "Edin - MSc Data Science offer rate: 0.1\n",
      "Edin - MSc Statistics with Data Science offer rate: 0.25\n",
      "\n",
      "\n",
      "chance of getting into ALL 3 programs: 0.001\n",
      "chance of getting into at least 1 program: 0.363\n"
     ]
    }
   ],
   "source": [
    "print(print_out)"
   ]
  },
  {
   "cell_type": "code",
   "execution_count": null,
   "id": "a9fd9828",
   "metadata": {},
   "outputs": [],
   "source": []
  }
 ],
 "metadata": {
  "kernelspec": {
   "display_name": "Python 3 (ipykernel)",
   "language": "python",
   "name": "python3"
  },
  "language_info": {
   "codemirror_mode": {
    "name": "ipython",
    "version": 3
   },
   "file_extension": ".py",
   "mimetype": "text/x-python",
   "name": "python",
   "nbconvert_exporter": "python",
   "pygments_lexer": "ipython3",
   "version": "3.9.12"
  }
 },
 "nbformat": 4,
 "nbformat_minor": 5
}
