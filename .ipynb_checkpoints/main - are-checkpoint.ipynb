{
 "cells": [
  {
   "cell_type": "code",
   "execution_count": 1,
   "id": "4272380a",
   "metadata": {},
   "outputs": [],
   "source": [
    "import pandas as pd"
   ]
  },
  {
   "cell_type": "markdown",
   "id": "59831a25",
   "metadata": {},
   "source": []
  },
  {
   "cell_type": "code",
   "execution_count": 2,
   "id": "de7a4786",
   "metadata": {},
   "outputs": [],
   "source": [
    "#load\n",
    "rates=pd.read_excel('manual_data.xlsx')"
   ]
  },
  {
   "cell_type": "code",
   "execution_count": 3,
   "id": "6c64fb5d",
   "metadata": {},
   "outputs": [
    {
     "data": {
      "text/html": [
       "<div>\n",
       "<style scoped>\n",
       "    .dataframe tbody tr th:only-of-type {\n",
       "        vertical-align: middle;\n",
       "    }\n",
       "\n",
       "    .dataframe tbody tr th {\n",
       "        vertical-align: top;\n",
       "    }\n",
       "\n",
       "    .dataframe thead th {\n",
       "        text-align: right;\n",
       "    }\n",
       "</style>\n",
       "<table border=\"1\" class=\"dataframe\">\n",
       "  <thead>\n",
       "    <tr style=\"text-align: right;\">\n",
       "      <th></th>\n",
       "      <th>college</th>\n",
       "      <th>program</th>\n",
       "      <th>rate</th>\n",
       "    </tr>\n",
       "  </thead>\n",
       "  <tbody>\n",
       "    <tr>\n",
       "      <th>0</th>\n",
       "      <td>UCL</td>\n",
       "      <td>MSc Data Science</td>\n",
       "      <td>0.057</td>\n",
       "    </tr>\n",
       "    <tr>\n",
       "      <th>1</th>\n",
       "      <td>UCL</td>\n",
       "      <td>MSc Finance</td>\n",
       "      <td>0.160</td>\n",
       "    </tr>\n",
       "    <tr>\n",
       "      <th>2</th>\n",
       "      <td>UCL</td>\n",
       "      <td>MSc Physics</td>\n",
       "      <td>0.480</td>\n",
       "    </tr>\n",
       "    <tr>\n",
       "      <th>3</th>\n",
       "      <td>UCL</td>\n",
       "      <td>MSc Geology</td>\n",
       "      <td>0.890</td>\n",
       "    </tr>\n",
       "    <tr>\n",
       "      <th>4</th>\n",
       "      <td>UCL</td>\n",
       "      <td>MA Fine Art</td>\n",
       "      <td>0.215</td>\n",
       "    </tr>\n",
       "    <tr>\n",
       "      <th>5</th>\n",
       "      <td>Edin</td>\n",
       "      <td>MSC Finance, Technology and Policy</td>\n",
       "      <td>0.270</td>\n",
       "    </tr>\n",
       "    <tr>\n",
       "      <th>6</th>\n",
       "      <td>Edin</td>\n",
       "      <td>MSc Computational Mathematical Finance</td>\n",
       "      <td>0.180</td>\n",
       "    </tr>\n",
       "    <tr>\n",
       "      <th>7</th>\n",
       "      <td>Edin</td>\n",
       "      <td>MSc Data Science</td>\n",
       "      <td>0.100</td>\n",
       "    </tr>\n",
       "    <tr>\n",
       "      <th>8</th>\n",
       "      <td>Edin</td>\n",
       "      <td>MSc Statistics with Data Science</td>\n",
       "      <td>0.250</td>\n",
       "    </tr>\n",
       "    <tr>\n",
       "      <th>9</th>\n",
       "      <td>Edin</td>\n",
       "      <td>MA Fashion</td>\n",
       "      <td>0.061</td>\n",
       "    </tr>\n",
       "  </tbody>\n",
       "</table>\n",
       "</div>"
      ],
      "text/plain": [
       "  college                                 program   rate\n",
       "0     UCL                        MSc Data Science  0.057\n",
       "1     UCL                             MSc Finance  0.160\n",
       "2     UCL                             MSc Physics  0.480\n",
       "3     UCL                             MSc Geology  0.890\n",
       "4     UCL                             MA Fine Art  0.215\n",
       "5    Edin      MSC Finance, Technology and Policy  0.270\n",
       "6   Edin   MSc Computational Mathematical Finance  0.180\n",
       "7    Edin                        MSc Data Science  0.100\n",
       "8    Edin        MSc Statistics with Data Science  0.250\n",
       "9    Edin                              MA Fashion  0.061"
      ]
     },
     "execution_count": 3,
     "metadata": {},
     "output_type": "execute_result"
    }
   ],
   "source": [
    "rates"
   ]
  },
  {
   "cell_type": "markdown",
   "id": "4db2d876",
   "metadata": {},
   "source": []
  },
  {
   "cell_type": "code",
   "execution_count": null,
   "id": "0acbaef1",
   "metadata": {},
   "outputs": [],
   "source": [
    "# lst=UCL, LSE, Imperial College, Cambridge, King's, Oxford, Edinburgh, Manchester, Durham, Warwick, St Andrews, Nottingham, ETHZ, Dartmouth\n",
    "# Brunek"
   ]
  },
  {
   "cell_type": "code",
   "execution_count": null,
   "id": "2bb7fc52",
   "metadata": {},
   "outputs": [],
   "source": [
    "#input\n",
    "rate_1=\n",
    "rate_2=\n",
    "rate_3="
   ]
  },
  {
   "cell_type": "code",
   "execution_count": null,
   "id": "5322144a",
   "metadata": {},
   "outputs": [],
   "source": [
    "#calculate\n",
    "all_rate=rate_1*rate_2*rate_3\n",
    "none_rate=(1-rate_1)*(1-rate_2)*(1-rate_3)\n",
    "any_rate=1-none"
   ]
  }
 ],
 "metadata": {
  "kernelspec": {
   "display_name": "Python 3 (ipykernel)",
   "language": "python",
   "name": "python3"
  },
  "language_info": {
   "codemirror_mode": {
    "name": "ipython",
    "version": 3
   },
   "file_extension": ".py",
   "mimetype": "text/x-python",
   "name": "python",
   "nbconvert_exporter": "python",
   "pygments_lexer": "ipython3",
   "version": "3.9.12"
  }
 },
 "nbformat": 4,
 "nbformat_minor": 5
}
